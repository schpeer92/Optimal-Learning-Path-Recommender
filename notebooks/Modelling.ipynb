{
 "cells": [
  {
   "cell_type": "code",
   "execution_count": 13,
   "id": "b0eaf529-82dd-47c8-9545-addb35956e19",
   "metadata": {},
   "outputs": [],
   "source": [
    "import networkx as nx\n",
    "from matplotlib import pyplot as plt"
   ]
  },
  {
   "cell_type": "markdown",
   "id": "c9ad6e75-b77c-4c4d-b592-0c9e39ddbf3c",
   "metadata": {},
   "source": [
    "# Import raw data as ..."
   ]
  },
  {
   "cell_type": "code",
   "execution_count": 1,
   "id": "d8006803-8f0c-425c-81f8-7bbacb24a50c",
   "metadata": {},
   "outputs": [],
   "source": [
    "import numpy as np\n",
    "\n",
    "from pybbn.generator.bbngenerator import generate_multi_bbn, convert_for_exact_inference, convert_for_drawing\n",
    "\n",
    "# very important to set the seed for reproducible results\n",
    "np.random.seed(37)\n",
    "\n",
    "# this method generates the graph, g, and probabilities, p\n",
    "# note we are generating a multi-connected graph\n",
    "g, p = generate_multi_bbn(5, max_iter=5)\n",
    "# you have to convert g and p to a BBN\n",
    "bbn = convert_for_exact_inference(g, p)\n",
    "# you can convert the BBN to a nx graph for visualization\n",
    "nx_graph = convert_for_drawing(bbn)"
   ]
  },
  {
   "cell_type": "code",
   "execution_count": 17,
   "id": "ca3b0f35-6d25-4090-b116-744e28a644d8",
   "metadata": {},
   "outputs": [
    {
     "data": {
      "image/png": "[encoded data removed]",
      "text/plain": [
       "<Figure size 432x288 with 1 Axes>"
      ]
     },
     "metadata": {},
     "output_type": "display_data"
    }
   ],
   "source": [
    "my_pos = nx.spring_layout(nx_graph, seed = 100)\n",
    "nx.draw(nx_graph, pos = my_pos, with_labels=True, node_color='orange', node_size=400, edge_color='black', linewidths=1, font_size=15)\n",
    "plt.show()"
   ]
  },
  {
   "cell_type": "code",
   "execution_count": 7,
   "id": "ae97b7ee-0763-4371-a775-d5e0515740cb",
   "metadata": {},
   "outputs": [
    {
     "data": {
      "text/plain": [
       "NodeView((0, 1, 2, 3, 4))"
      ]
     },
     "execution_count": 7,
     "metadata": {},
     "output_type": "execute_result"
    }
   ],
   "source": [
    "nx_graph.nodes"
   ]
  },
  {
   "cell_type": "code",
   "execution_count": 8,
   "id": "61dad4eb-7ca2-4bb6-9b67-5a1fae6da8f1",
   "metadata": {},
   "outputs": [
    {
     "data": {
      "text/plain": [
       "OutEdgeView([(0, 1), (0, 3), (1, 2), (2, 3), (3, 4)])"
      ]
     },
     "execution_count": 8,
     "metadata": {},
     "output_type": "execute_result"
    }
   ],
   "source": [
    "nx_graph.edges"
   ]
  },
  {
   "cell_type": "code",
   "execution_count": 22,
   "id": "30988129-b589-4f6d-a15d-99a604bcf5cc",
   "metadata": {},
   "outputs": [],
   "source": [
    "from pybbn.graph.dag import Bbn\n",
    "from pybbn.graph.edge import Edge, EdgeType\n",
    "from pybbn.graph.jointree import EvidenceBuilder\n",
    "from pybbn.graph.node import BbnNode\n",
    "from pybbn.graph.variable import Variable\n",
    "from pybbn.pptc.inferencecontroller import InferenceController"
   ]
  },
  {
   "cell_type": "code",
   "execution_count": 23,
   "id": "b30bfe0e-345f-4868-90e9-d20ee381cbb1",
   "metadata": {},
   "outputs": [],
   "source": [
    "join_tree = InferenceController.apply(bbn)"
   ]
  },
  {
   "cell_type": "code",
   "execution_count": 31,
   "id": "4c636a22-b2b7-448d-99cf-bbbbc1ecda7b",
   "metadata": {},
   "outputs": [
    {
     "name": "stdout",
     "output_type": "stream",
     "text": [
      "Node: 3|3|state0,state1\n",
      "Values:\n",
      "3=state0|0.30921\n",
      "3=state1|0.69079\n",
      "----------------\n",
      "Node: 4|4|state0,state1\n",
      "Values:\n",
      "4=state0|0.32575\n",
      "4=state1|0.67425\n",
      "----------------\n",
      "Node: 0|0|state0,state1\n",
      "Values:\n",
      "0=state0|0.05776\n",
      "0=state1|0.94224\n",
      "----------------\n",
      "Node: 2|2|state0,state1\n",
      "Values:\n",
      "2=state0|0.35749\n",
      "2=state1|0.64251\n",
      "----------------\n",
      "Node: 1|1|state0,state1\n",
      "Values:\n",
      "1=state0|0.60777\n",
      "1=state1|0.39223\n",
      "----------------\n"
     ]
    }
   ],
   "source": [
    "# Define a function for printing marginal probabilities\n",
    "def print_probs():\n",
    "    for node in join_tree.get_bbn_nodes():\n",
    "        potential = join_tree.get_bbn_potential(node)\n",
    "        print(\"Node:\", node)\n",
    "        print(\"Values:\")\n",
    "        print(potential)\n",
    "        print('----------------')\n",
    "        \n",
    "# Use the above function to print marginal probabilities\n",
    "print_probs()"
   ]
  },
  {
   "cell_type": "code",
   "execution_count": 32,
   "id": "bf9cb8e9-9215-4a07-ac70-b82c3d32dc0f",
   "metadata": {},
   "outputs": [
    {
     "ename": "AttributeError",
     "evalue": "'NoneType' object has no attribute 'id'",
     "output_type": "error",
     "traceback": [
      "\u001b[0;31m---------------------------------------------------------------------------\u001b[0m",
      "\u001b[0;31mAttributeError\u001b[0m                            Traceback (most recent call last)",
      "\u001b[0;32m/tmp/ipykernel_2571/2435206888.py\u001b[0m in \u001b[0;36m<module>\u001b[0;34m\u001b[0m\n\u001b[1;32m      8\u001b[0m \u001b[0;34m\u001b[0m\u001b[0m\n\u001b[1;32m      9\u001b[0m \u001b[0;31m# Use above function to add evidence\u001b[0m\u001b[0;34m\u001b[0m\u001b[0;34m\u001b[0m\u001b[0;34m\u001b[0m\u001b[0m\n\u001b[0;32m---> 10\u001b[0;31m \u001b[0mevidence\u001b[0m\u001b[0;34m(\u001b[0m\u001b[0;34m'ev1'\u001b[0m\u001b[0;34m,\u001b[0m \u001b[0;34m'H9am'\u001b[0m\u001b[0;34m,\u001b[0m \u001b[0;34m'>60'\u001b[0m\u001b[0;34m,\u001b[0m \u001b[0;36m1.0\u001b[0m\u001b[0;34m)\u001b[0m\u001b[0;34m\u001b[0m\u001b[0;34m\u001b[0m\u001b[0m\n\u001b[0m\u001b[1;32m     11\u001b[0m \u001b[0;34m\u001b[0m\u001b[0m\n\u001b[1;32m     12\u001b[0m \u001b[0;31m# Print marginal probabilities\u001b[0m\u001b[0;34m\u001b[0m\u001b[0;34m\u001b[0m\u001b[0;34m\u001b[0m\u001b[0m\n",
      "\u001b[0;32m/tmp/ipykernel_2571/2435206888.py\u001b[0m in \u001b[0;36mevidence\u001b[0;34m(ev, nod, cat, val)\u001b[0m\n\u001b[1;32m      5\u001b[0m     \u001b[0;34m.\u001b[0m\u001b[0mwith_evidence\u001b[0m\u001b[0;34m(\u001b[0m\u001b[0mcat\u001b[0m\u001b[0;34m,\u001b[0m \u001b[0mval\u001b[0m\u001b[0;34m)\u001b[0m\u001b[0;31m \u001b[0m\u001b[0;31m\\\u001b[0m\u001b[0;34m\u001b[0m\u001b[0;34m\u001b[0m\u001b[0m\n\u001b[1;32m      6\u001b[0m     \u001b[0;34m.\u001b[0m\u001b[0mbuild\u001b[0m\u001b[0;34m(\u001b[0m\u001b[0;34m)\u001b[0m\u001b[0;34m\u001b[0m\u001b[0;34m\u001b[0m\u001b[0m\n\u001b[0;32m----> 7\u001b[0;31m     \u001b[0mjoin_tree\u001b[0m\u001b[0;34m.\u001b[0m\u001b[0mset_observation\u001b[0m\u001b[0;34m(\u001b[0m\u001b[0mev\u001b[0m\u001b[0;34m)\u001b[0m\u001b[0;34m\u001b[0m\u001b[0;34m\u001b[0m\u001b[0m\n\u001b[0m\u001b[1;32m      8\u001b[0m \u001b[0;34m\u001b[0m\u001b[0m\n\u001b[1;32m      9\u001b[0m \u001b[0;31m# Use above function to add evidence\u001b[0m\u001b[0;34m\u001b[0m\u001b[0;34m\u001b[0m\u001b[0;34m\u001b[0m\u001b[0m\n",
      "\u001b[0;32m/mnt/d/Python/Projects/optimal_learning_path/.env/lib/python3.8/site-packages/pybbn/graph/jointree.py\u001b[0m in \u001b[0;36mset_observation\u001b[0;34m(self, evidence)\u001b[0m\n\u001b[1;32m    356\u001b[0m         \u001b[0;34m:\u001b[0m\u001b[0;32mreturn\u001b[0m\u001b[0;34m:\u001b[0m \u001b[0mThis\u001b[0m \u001b[0mjoin\u001b[0m \u001b[0mtree\u001b[0m\u001b[0;34m.\u001b[0m\u001b[0;34m\u001b[0m\u001b[0;34m\u001b[0m\u001b[0m\n\u001b[1;32m    357\u001b[0m         \"\"\"\n\u001b[0;32m--> 358\u001b[0;31m         \u001b[0mpotentials\u001b[0m \u001b[0;34m=\u001b[0m \u001b[0mself\u001b[0m\u001b[0;34m.\u001b[0m\u001b[0mevidences\u001b[0m\u001b[0;34m[\u001b[0m\u001b[0mevidence\u001b[0m\u001b[0;34m.\u001b[0m\u001b[0mnode\u001b[0m\u001b[0;34m.\u001b[0m\u001b[0mid\u001b[0m\u001b[0;34m]\u001b[0m\u001b[0;34m\u001b[0m\u001b[0;34m\u001b[0m\u001b[0m\n\u001b[0m\u001b[1;32m    359\u001b[0m \u001b[0;34m\u001b[0m\u001b[0m\n\u001b[1;32m    360\u001b[0m         \u001b[0mpvalues\u001b[0m \u001b[0;34m=\u001b[0m \u001b[0;34m[\u001b[0m\u001b[0;34m]\u001b[0m\u001b[0;34m\u001b[0m\u001b[0;34m\u001b[0m\u001b[0m\n",
      "\u001b[0;31mAttributeError\u001b[0m: 'NoneType' object has no attribute 'id'"
     ]
    }
   ],
   "source": [
    "# To add evidence of events that happened so probability distribution can be recalculated\n",
    "def evidence(ev, nod, cat, val):\n",
    "    ev = EvidenceBuilder() \\\n",
    "    .with_node(join_tree.get_bbn_node_by_name(nod)) \\\n",
    "    .with_evidence(cat, val) \\\n",
    "    .build()\n",
    "    join_tree.set_observation(ev)\n",
    "    \n",
    "# Use above function to add evidence\n",
    "\n",
    "\n",
    "# Print marginal probabilities\n",
    "print_probs()"
   ]
  }
 ],
 "metadata": {
  "kernelspec": {
   "display_name": "Python 3 (ipykernel)",
   "language": "python",
   "name": "python3"
  },
  "language_info": {
   "codemirror_mode": {
    "name": "ipython",
    "version": 3
   },
   "file_extension": ".py",
   "mimetype": "text/x-python",
   "name": "python",
   "nbconvert_exporter": "python",
   "pygments_lexer": "ipython3",
   "version": "3.8.10"
  }
 },
 "nbformat": 4,
 "nbformat_minor": 5
}
