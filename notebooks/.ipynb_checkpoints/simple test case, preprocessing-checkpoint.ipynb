{
 "cells": [
  {
   "cell_type": "code",
   "execution_count": 10,
   "id": "9e7cb2c2",
   "metadata": {},
   "outputs": [
    {
     "name": "stdout",
     "output_type": "stream",
     "text": [
      "d : on=0.70000, off=0.30000\n",
      "e : on=0.39000, off=0.61000\n",
      "f : on=0.18934, off=0.81066\n",
      "g : on=0.59000, off=0.41000\n",
      "h : on=0.78260, off=0.21740\n",
      "c : on=0.70000, off=0.30000\n",
      "b : on=0.50000, off=0.50000\n",
      "a : on=1.00000, off=0.00000\n"
     ]
    }
   ],
   "source": [
    "from pybbn.graph.dag import Bbn\n",
    "from pybbn.graph.edge import Edge, EdgeType\n",
    "from pybbn.graph.jointree import EvidenceBuilder\n",
    "from pybbn.graph.node import BbnNode\n",
    "from pybbn.graph.variable import Variable\n",
    "from pybbn.pptc.inferencecontroller import InferenceController\n",
    "#create the nodes\n",
    "a= BbnNode(Variable(0, 'a', ['on', 'off']), [0.5, 0.5])\n",
    "b = BbnNode(Variable(1, 'b', ['on', 'off']), [0.5, 0.5, 0.4, 0.6])\n",
    "c = BbnNode(Variable(2, 'c', ['on', 'off']), [0.7, 0.3, 0.2, 0.8])\n",
    "d = BbnNode(Variable(3, 'd', ['on', 'off']), [0.9, 0.1, 0.5, 0.5])\n",
    "e = BbnNode(Variable(4, 'e', ['on', 'off']), [0.3, 0.7, 0.6, 0.4])\n",
    "f = BbnNode(Variable(5, 'f', ['on', 'off']), [0.01, 0.99, 0.01, 0.99, 0.01, 0.99, 0.99, 0.01])\n",
    "g = BbnNode(Variable(6, 'g', ['on', 'off']), [0.8, 0.2, 0.1, 0.9])\n",
    "h = BbnNode(Variable(7, 'h', ['on', 'off']), [0.05, 0.95, 0.95, 0.05, 0.95, 0.05, 0.95, 0.05])\n",
    "\n",
    "# create the network structure\n",
    "bbn = Bbn() \\\n",
    "    .add_node(a) \\\n",
    "    .add_node(b) \\\n",
    "    .add_node(c) \\\n",
    "    .add_node(d) \\\n",
    "    .add_node(e) \\\n",
    "    .add_node(f) \\\n",
    "    .add_node(g) \\\n",
    "    .add_node(h) \\\n",
    "    .add_edge(Edge(a, b, EdgeType.DIRECTED)) \\\n",
    "    .add_edge(Edge(a, c, EdgeType.DIRECTED)) \\\n",
    "    .add_edge(Edge(b, d, EdgeType.DIRECTED)) \\\n",
    "    .add_edge(Edge(c, e, EdgeType.DIRECTED)) \\\n",
    "    .add_edge(Edge(d, f, EdgeType.DIRECTED)) \\\n",
    "    .add_edge(Edge(e, f, EdgeType.DIRECTED)) \\\n",
    "    .add_edge(Edge(c, g, EdgeType.DIRECTED)) \\\n",
    "    .add_edge(Edge(e, h, EdgeType.DIRECTED)) \\\n",
    "    .add_edge(Edge(g, h, EdgeType.DIRECTED))\n",
    "\n",
    "# convert the BBN to a join tree\n",
    "join_tree = InferenceController.apply(bbn)\n",
    "\n",
    "# insert an observation evidence\n",
    "ev = EvidenceBuilder() \\\n",
    "    .with_node(join_tree.get_bbn_node_by_name('a')) \\\n",
    "    .with_evidence('on', 1.0) \\\n",
    "    .build()\n",
    "join_tree.set_observation(ev)\n",
    "\n",
    "# print the posterior probabilities\n",
    "for node, posteriors in join_tree.get_posteriors().items():\n",
    "    p = ', '.join([f'{val}={prob:.5f}' for val, prob in posteriors.items()])\n",
    "    print(f'{node} : {p}')"
   ]
  },
  {
   "cell_type": "code",
   "execution_count": 26,
   "id": "c956ced1",
   "metadata": {},
   "outputs": [],
   "source": [
    "g, map_nx_to_bbn = bbn.to_nx_graph()"
   ]
  },
  {
   "cell_type": "code",
   "execution_count": 12,
   "id": "d60e05bb",
   "metadata": {},
   "outputs": [
    {
     "data": {
      "image/png": "[encoded data removed]",
      "text/plain": [
       "<Figure size 720x360 with 1 Axes>"
      ]
     },
     "metadata": {},
     "output_type": "display_data"
    }
   ],
   "source": [
    "fig, ax = plt.subplots(figsize=(10, 5))\n",
    "\n",
    "pos = nx.nx_agraph.graphviz_layout(g, prog='dot', args='-Kdot')\n",
    "\n",
    "params = {\n",
    "    'node_color': 'r',\n",
    "    'node_size': 1000,\n",
    "    'node_shape': 'o',\n",
    "    'alpha': 0.5,\n",
    "    'pos': pos,\n",
    "    'ax': ax\n",
    "}\n",
    "_ = nx.drawing.nx_pylab.draw_networkx_nodes(g, **params)\n",
    "\n",
    "params = {\n",
    "    'labels': labels,\n",
    "    'font_size': 20,\n",
    "    'font_color': 'k',\n",
    "    'font_family': 'monospace',\n",
    "    'font_weight': 'bold',\n",
    "    'pos': pos,\n",
    "    'ax': ax\n",
    "}\n",
    "_ = nx.drawing.nx_pylab.draw_networkx_labels(g, **params)\n",
    "\n",
    "params = {\n",
    "    'width': 1.5,\n",
    "    'alpha': 0.8,\n",
    "    'edge_color': 'b',\n",
    "    'arrowsize': 30,\n",
    "    'pos': pos,\n",
    "    'ax': ax\n",
    "}\n",
    "_ = nx.drawing.nx_pylab.draw_networkx_edges(g, **params)\n",
    "\n",
    "_ = ax.set_title('Gender, drug and recovery')\n",
    "\n",
    "plt.tight_layout()"
   ]
  },
  {
   "cell_type": "raw",
   "id": "5414987d",
   "metadata": {},
   "source": [
    "d : on=0.70000, off=0.30000\n",
    "e : on=0.39000, off=0.61000\n",
    "f : on=0.18934, off=0.81066\n",
    "g : on=0.59000, off=0.41000\n",
    "h : on=0.78260, off=0.21740\n",
    "c : on=0.70000, off=0.30000\n",
    "b : on=0.50000, off=0.50000\n",
    "a : on=1.00000, off=0.00000"
   ]
  },
  {
   "cell_type": "code",
   "execution_count": 13,
   "id": "2ad806e8",
   "metadata": {},
   "outputs": [],
   "source": [
    "join_tree = InferenceController.apply(bbn)"
   ]
  },
  {
   "cell_type": "code",
   "execution_count": 27,
   "id": "35c898e8",
   "metadata": {},
   "outputs": [],
   "source": [
    "map_bbn_to_nx = dict((v,k) for k,v in map_nx_to_bbn.items())"
   ]
  },
  {
   "cell_type": "code",
   "execution_count": 66,
   "id": "e110caef",
   "metadata": {},
   "outputs": [
    {
     "data": {
      "text/plain": [
       "<pybbn.graph.jointree.JoinTree at 0x7fc3893fcfd0>"
      ]
     },
     "execution_count": 66,
     "metadata": {},
     "output_type": "execute_result"
    }
   ],
   "source": [
    "# insert an observation evidence\n",
    "ev = EvidenceBuilder() \\\n",
    "    .with_node(join_tree.get_bbn_node_by_name('d')) \\\n",
    "   .with_evidence('off',1.0 ) \\\n",
    "    .build()\n",
    "join_tree.set_observation(ev)"
   ]
  },
  {
   "cell_type": "code",
   "execution_count": 71,
   "id": "24d912c5",
   "metadata": {},
   "outputs": [
    {
     "name": "stdout",
     "output_type": "stream",
     "text": [
      "d : on=0.68000, off=0.32000\n",
      "e : on=0.46500, off=0.53500\n",
      "f : on=0.17631, off=0.82369\n",
      "g : on=0.41500, off=0.58500\n",
      "h : on=0.82310, off=0.17690\n",
      "c : on=0.45000, off=0.55000\n",
      "b : on=0.45000, off=0.55000\n",
      "a : on=0.50000, off=0.50000\n"
     ]
    }
   ],
   "source": [
    "for node, posteriors in join_tree.get_posteriors().items():\n",
    "    p = ', '.join([f'{val}={prob:.5f}' for val, prob in posteriors.items()])\n",
    "    print(f'{node} : {p}')"
   ]
  },
  {
   "cell_type": "code",
   "execution_count": 70,
   "id": "8814f065",
   "metadata": {},
   "outputs": [
    {
     "data": {
      "text/plain": [
       "<pybbn.graph.jointree.JoinTree at 0x7fc3893fcfd0>"
      ]
     },
     "execution_count": 70,
     "metadata": {},
     "output_type": "execute_result"
    }
   ],
   "source": [
    "join_tree.unobserve_all()"
   ]
  }
 ],
 "metadata": {
  "kernelspec": {
   "display_name": "Python 3 (ipykernel)",
   "language": "python",
   "name": "python3"
  },
  "language_info": {
   "codemirror_mode": {
    "name": "ipython",
    "version": 3
   },
   "file_extension": ".py",
   "mimetype": "text/x-python",
   "name": "python",
   "nbconvert_exporter": "python",
   "pygments_lexer": "ipython3",
   "version": "3.8.10"
  }
 },
 "nbformat": 4,
 "nbformat_minor": 5
}
