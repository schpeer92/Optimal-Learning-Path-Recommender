{
 "cells": [
  {
   "cell_type": "markdown",
   "id": "1d62ebce",
   "metadata": {},
   "source": [
    "# General imports"
   ]
  },
  {
   "cell_type": "code",
   "execution_count": 6,
   "id": "d5b7623a",
   "metadata": {},
   "outputs": [],
   "source": [
    "import networkx as nx\n",
    "from networkx.drawing.nx_pydot import graphviz_layout\n",
    "from matplotlib import pyplot as plt\n",
    "from typing import Tuple\n",
    "from collections import defaultdict\n",
    "from gekko import GEKKO\n",
    "from itertools import product\n",
    "import numpy as np"
   ]
  },
  {
   "cell_type": "markdown",
   "id": "cc8bed40",
   "metadata": {},
   "source": [
    "# pybbn imports"
   ]
  },
  {
   "cell_type": "code",
   "execution_count": 7,
   "id": "9e7cb2c2",
   "metadata": {},
   "outputs": [],
   "source": [
    "from pybbn.graph.dag import Bbn\n",
    "from pybbn.graph.edge import Edge, EdgeType\n",
    "from pybbn.graph.jointree import EvidenceBuilder\n",
    "from pybbn.graph.node import BbnNode\n",
    "from pybbn.graph.variable import Variable\n",
    "from pybbn.pptc.inferencecontroller import InferenceController\n"
   ]
  },
  {
   "cell_type": "code",
   "execution_count": 8,
   "id": "6cdbec70",
   "metadata": {},
   "outputs": [
    {
     "name": "stdout",
     "output_type": "stream",
     "text": [
      "d : on=0.68000, off=0.32000\n",
      "e : on=0.46500, off=0.53500\n",
      "f : on=0.17631, off=0.82369\n",
      "g : on=0.41500, off=0.58500\n",
      "h : on=0.82310, off=0.17690\n",
      "c : on=0.45000, off=0.55000\n",
      "b : on=0.45000, off=0.55000\n",
      "a : on=0.50000, off=0.50000\n"
     ]
    }
   ],
   "source": [
    "### create the nodes\n",
    "a= BbnNode(Variable(0, 'a', ['on', 'off']), [0.5, 0.5])\n",
    "b = BbnNode(Variable(1, 'b', ['on', 'off']), [0.5, 0.5, 0.4, 0.6])\n",
    "c = BbnNode(Variable(2, 'c', ['on', 'off']), [0.7, 0.3, 0.2, 0.8])\n",
    "d = BbnNode(Variable(3, 'd', ['on', 'off']), [0.9, 0.1, 0.5, 0.5])\n",
    "e = BbnNode(Variable(4, 'e', ['on', 'off']), [0.3, 0.7, 0.6, 0.4])\n",
    "f = BbnNode(Variable(5, 'f', ['on', 'off']), [0.01, 0.99, 0.01, 0.99, 0.01, 0.99, 0.99, 0.01])\n",
    "g = BbnNode(Variable(6, 'g', ['on', 'off']), [0.8, 0.2, 0.1, 0.9])\n",
    "h = BbnNode(Variable(7, 'h', ['on', 'off']), [0.05, 0.95, 0.95, 0.05, 0.95, 0.05, 0.95, 0.05])\n",
    "\n",
    "### create the network structure\n",
    "bbn = Bbn() \\\n",
    "    .add_node(a) \\\n",
    "    .add_node(b) \\\n",
    "    .add_node(c) \\\n",
    "    .add_node(d) \\\n",
    "    .add_node(e) \\\n",
    "    .add_node(f) \\\n",
    "    .add_node(g) \\\n",
    "    .add_node(h) \\\n",
    "    .add_edge(Edge(a, b, EdgeType.DIRECTED)) \\\n",
    "    .add_edge(Edge(a, c, EdgeType.DIRECTED)) \\\n",
    "    .add_edge(Edge(b, d, EdgeType.DIRECTED)) \\\n",
    "    .add_edge(Edge(c, e, EdgeType.DIRECTED)) \\\n",
    "    .add_edge(Edge(d, f, EdgeType.DIRECTED)) \\\n",
    "    .add_edge(Edge(e, f, EdgeType.DIRECTED)) \\\n",
    "    .add_edge(Edge(c, g, EdgeType.DIRECTED)) \\\n",
    "    .add_edge(Edge(e, h, EdgeType.DIRECTED)) \\\n",
    "    .add_edge(Edge(g, h, EdgeType.DIRECTED))\n",
    "\n",
    "# convert the BBN to a join tree\n",
    "join_tree = InferenceController.apply(bbn)\n",
    "\n",
    "\n",
    "\n",
    "# print the posterior probabilities\n",
    "for node, posteriors in join_tree.get_posteriors().items():\n",
    "    p = ', '.join([f'{val}={prob:.5f}' for val, prob in posteriors.items()])\n",
    "    print(f'{node} : {p}')"
   ]
  },
  {
   "cell_type": "code",
   "execution_count": 9,
   "id": "54cf75f3",
   "metadata": {},
   "outputs": [],
   "source": [
    "g, map_nx_to_bbn = bbn.to_nx_graph()\n",
    "map_nx_to_bbn\n",
    "map_bbn_to_nx = {v: k for k,v in map_nx_to_bbn.items()}"
   ]
  },
  {
   "cell_type": "code",
   "execution_count": 11,
   "id": "c518c637",
   "metadata": {},
   "outputs": [
    {
     "data": {
      "image/png": "[encoded data removed]",
      "text/plain": [
       "<Figure size 432x288 with 1 Axes>"
      ]
     },
     "metadata": {},
     "output_type": "display_data"
    }
   ],
   "source": [
    "my_pos = graphviz_layout(g, prog=\"dot\" )\n",
    "nx.draw(g, pos = my_pos, with_labels=True, node_color='orange', node_size=400, edge_color='black', linewidths=1, font_size=15)\n",
    "plt.show()"
   ]
  },
  {
   "cell_type": "markdown",
   "id": "a2b9785f",
   "metadata": {},
   "source": [
    "## sample code for evidence"
   ]
  },
  {
   "cell_type": "code",
   "execution_count": 6,
   "id": "e110caef",
   "metadata": {},
   "outputs": [],
   "source": [
    "# insert an observation evidence\n",
    "def build_evidence(tree,node,value):\n",
    "    state = \"on\" if value==1 else \"off\"\n",
    "    ev = EvidenceBuilder() \\\n",
    "    .with_node(tree.get_bbn_node(node)) \\\n",
    "    .with_evidence(state, value) \\\n",
    "    .build()\n",
    "    tree.set_observation(ev)\n",
    "    "
   ]
  },
  {
   "cell_type": "code",
   "execution_count": 7,
   "id": "fe2d97ce",
   "metadata": {},
   "outputs": [],
   "source": [
    "def get_binary_for_all_nodes(tree, model):\n",
    "    # #x = [m.Var(integer=True, lb=0,ub=1) for i in range(len(tree.get_bbn_nodes()))]\n",
    "    # x={}\n",
    "    # for i,node in enumerate(tree.get_bbn_nodes()):\n",
    "    #     x[i]= model.Var(integer=True, lb=0, ub = 1)\n",
    "    number_of_nodes = len(tree.get_bbn_nodes())\n",
    "    return model.Array(\n",
    "        model.CV, (number_of_nodes), lb=0, ub=1, integer=True, value=1\n",
    "    )"
   ]
  },
  {
   "cell_type": "code",
   "execution_count": 8,
   "id": "dec3e7d0",
   "metadata": {},
   "outputs": [],
   "source": [
    "def posterior_proba(tree,binary_variables,node):\n",
    "    for i,value in enumerate(binary_variables):\n",
    "        if i!= node:\n",
    "            build_evidence(tree,i,value.value)\n",
    "    proba = join_tree.get_posteriors()[map_nx_to_bbn[node]] \n",
    "    \n",
    "    tree.unobserve_all()\n",
    "    return proba[\"on\"]\n",
    "    "
   ]
  },
  {
   "cell_type": "markdown",
   "id": "da17ac17",
   "metadata": {},
   "source": [
    "simple model graph to test if it works correctly"
   ]
  },
  {
   "cell_type": "code",
   "execution_count": 9,
   "id": "ad31b19e",
   "metadata": {},
   "outputs": [
    {
     "name": "stdout",
     "output_type": "stream",
     "text": [
      "1 : on=0.55000, off=0.45000\n",
      "0 : on=0.50000, off=0.50000\n",
      "2 : on=0.67500, off=0.32500\n"
     ]
    }
   ],
   "source": [
    "a= BbnNode(Variable(0, 0, ['on', 'off']), [0.5, 0.5])\n",
    "b = BbnNode(Variable(1, 1, ['on', 'off']), [0.7, 0.3, 0.4, 0.6])\n",
    "c = BbnNode(Variable(2, 2, ['on', 'off']), [0.9, 0.1, 0.4, 0.6])\n",
    "\n",
    "# create the network structure\n",
    "bbn = Bbn() \\\n",
    "    .add_node(a) \\\n",
    "    .add_node(b) \\\n",
    "    .add_node(c) \\\n",
    "    .add_edge(Edge(a, b, EdgeType.DIRECTED)) \\\n",
    "    .add_edge(Edge(b, c, EdgeType.DIRECTED)) \n",
    "\n",
    "# convert the BBN to a join tree\n",
    "join_tree = InferenceController.apply(bbn)\n",
    "\n",
    "\n",
    "\n",
    "# print the posterior probabilities\n",
    "for node, posteriors in join_tree.get_posteriors().items():\n",
    "    p = ', '.join([f'{val}={prob:.5f}' for val, prob in posteriors.items()])\n",
    "    print(f'{node} : {p}')"
   ]
  },
  {
   "cell_type": "code",
   "execution_count": 10,
   "id": "54cf75f3",
   "metadata": {},
   "outputs": [],
   "source": [
    "g, map_nx_to_bbn = bbn.to_nx_graph()\n",
    "map_nx_to_bbn\n",
    "map_bbn_to_nx = {v: k for k,v in map_nx_to_bbn.items()}"
   ]
  },
  {
   "cell_type": "code",
   "execution_count": 11,
   "id": "c518c637",
   "metadata": {},
   "outputs": [
    {
     "data": {
      "image/png": "[encoded data removed]",
      "text/plain": [
       "<Figure size 432x288 with 1 Axes>"
      ]
     },
     "metadata": {},
     "output_type": "display_data"
    }
   ],
   "source": [
    "my_pos = graphviz_layout(g, prog=\"dot\" )\n",
    "nx.draw(g, pos = my_pos, with_labels=True, node_color='orange', node_size=400, edge_color='black', linewidths=1, font_size=15)\n",
    "plt.show()"
   ]
  },
  {
   "cell_type": "code",
   "execution_count": 12,
   "id": "91867039",
   "metadata": {},
   "outputs": [],
   "source": [
    "def backwards_traversal(g:nx.DiGraph,source:int)->list:\n",
    "    queue = [source]\n",
    "    for node in queue:\n",
    "        queue += list(g.predecessors(node))\n",
    "    return queue"
   ]
  },
  {
   "cell_type": "code",
   "execution_count": 13,
   "id": "41edf40f",
   "metadata": {},
   "outputs": [],
   "source": [
    "def forward_traversal(queue:list) -> list:\n",
    "    x = [0 for i in range(len(queue))]\n",
    "    "
   ]
  },
  {
   "cell_type": "markdown",
   "id": "889aead4",
   "metadata": {},
   "source": [
    "## flattened LP"
   ]
  },
  {
   "cell_type": "code",
   "execution_count": 14,
   "id": "6f4fc19e",
   "metadata": {},
   "outputs": [
    {
     "name": "stdout",
     "output_type": "stream",
     "text": [
      "[0.0 0.1 0.2 0.30000000000000004 0.4 0.5 0.6000000000000001\n",
      " 0.7000000000000001]\n",
      "apm 79.206.189.254_gk_model0 <br><pre> ----------------------------------------------------------------\n",
      " APMonitor, Version 1.0.1\n",
      " APMonitor Optimization Suite\n",
      " ----------------------------------------------------------------\n",
      " \n",
      " \n",
      " --------- APM Model Size ------------\n",
      " Each time step contains\n",
      "   Objects      :            0\n",
      "   Constants    :            8\n",
      "   Variables    :           25\n",
      "   Intermediates:            0\n",
      "   Connections  :            0\n",
      "   Equations    :           18\n",
      "   Residuals    :           18\n",
      " \n",
      " Number of state variables:             25\n",
      " Number of total equations: -           17\n",
      " Number of slack variables: -           16\n",
      " ---------------------------------------\n",
      " Degrees of freedom       :             -8\n",
      " \n",
      " * Warning: DOF <= 0\n",
      " ----------------------------------------------\n",
      " Steady State Optimization with APOPT Solver\n",
      " ----------------------------------------------\n",
      "Iter:     1 I:  0 Tm:      0.00 NLPi:    3 Dpth:    0 Lvs:    3 Obj: -1.39E-01 Gap:       NaN\n",
      "Iter:     2 I: -1 Tm:      0.00 NLPi:    1 Dpth:    1 Lvs:    2 Obj: -1.39E-01 Gap:       NaN\n",
      "Iter:     3 I:  0 Tm:      0.00 NLPi:    3 Dpth:    1 Lvs:    4 Obj:  3.83E-01 Gap:       NaN\n",
      "Iter:     4 I: -1 Tm:      0.00 NLPi:    1 Dpth:    1 Lvs:    3 Obj: -1.39E-01 Gap:       NaN\n",
      "Iter:     5 I: -1 Tm:      0.00 NLPi:    1 Dpth:    2 Lvs:    2 Obj:  3.83E-01 Gap:       NaN\n",
      "--Integer Solution:   1.40E+00 Lowest Leaf:   3.83E-01 Gap:   1.02E+00\n",
      "Iter:     6 I:  0 Tm:      0.00 NLPi:    2 Dpth:    2 Lvs:    1 Obj:  1.40E+00 Gap:  1.02E+00\n",
      "Iter:     7 I:  0 Tm:      0.00 NLPi:    4 Dpth:    2 Lvs:    3 Obj:  4.50E-01 Gap:  1.02E+00\n",
      "Iter:     8 I: -1 Tm:      0.00 NLPi:    1 Dpth:    3 Lvs:    2 Obj:  4.50E-01 Gap:  1.02E+00\n",
      "--Integer Solution:   1.40E+00 Lowest Leaf:   4.50E-01 Gap:   9.50E-01\n",
      "Iter:     9 I:  0 Tm:      0.00 NLPi:    2 Dpth:    3 Lvs:    1 Obj:  1.50E+00 Gap:  9.50E-01\n",
      "Iter:    10 I:  0 Tm:      0.00 NLPi:    4 Dpth:    3 Lvs:    3 Obj:  5.00E-01 Gap:  9.50E-01\n",
      "Iter:    11 I: -1 Tm:      0.00 NLPi:    1 Dpth:    4 Lvs:    2 Obj:  5.00E-01 Gap:  9.50E-01\n",
      "--Integer Solution:   1.40E+00 Lowest Leaf:   5.00E-01 Gap:   9.00E-01\n",
      "Iter:    12 I:  0 Tm:      0.00 NLPi:    3 Dpth:    4 Lvs:    1 Obj:  2.30E+00 Gap:  9.00E-01\n",
      "Iter:    13 I:  0 Tm:      0.00 NLPi:    4 Dpth:    4 Lvs:    2 Obj:  6.20E-01 Gap:  9.00E-01\n",
      "Iter:    14 I: -1 Tm:      0.00 NLPi:    1 Dpth:    5 Lvs:    1 Obj:  6.20E-01 Gap:  9.00E-01\n",
      "Iter:    15 I:  0 Tm:      0.00 NLPi:    4 Dpth:    5 Lvs:    3 Obj:  7.60E-01 Gap:  9.00E-01\n",
      "Iter:    16 I: -1 Tm:      0.00 NLPi:    1 Dpth:    6 Lvs:    2 Obj:  7.60E-01 Gap:  9.00E-01\n",
      "Iter:    17 I: -1 Tm:      0.00 NLPi:    2 Dpth:    6 Lvs:    1 Obj:  7.60E-01 Gap:  9.00E-01\n",
      "Iter:    18 I: -1 Tm:      0.00 NLPi:    5 Dpth:    6 Lvs:    0 Obj:  7.60E-01 Gap:  9.00E-01\n",
      " No additional trial points, returning the best integer solution\n",
      " Successful solution\n",
      " \n",
      " ---------------------------------------------------\n",
      " Solver         :  APOPT (v1.0)\n",
      " Solution time  :   2.399999997578561E-002 sec\n",
      " Objective      :    1.40000000000000     \n",
      " Successful solution\n",
      " ---------------------------------------------------\n",
      " \n",
      "[[0.0] [0.0] [0.0] [0.0] [0.0] [0.0] [1.0] [0.0]]\n"
     ]
    }
   ],
   "source": [
    "matrix_model = GEKKO()\n",
    "m = matrix_model.Array(matrix_model.Const,8)#(4))\n",
    "for i in range(8):\n",
    "    m[i] = i*0.1\n",
    "\n",
    "\n",
    "x = matrix_model.Array(matrix_model.Var,8, lb=0, ub=1, integer = True, value = 0)\n",
    "z = matrix_model.Var(lb=0, ub=8, integer=True)\n",
    "\n",
    "matrix_model.Equation(sum(x)==1)\n",
    "for i in range(8):\n",
    "    matrix_model.Equation(m[i] >= 0.5*x[i])\n",
    "    matrix_model.Equation(sum(int(i) for i in np.binary_repr(i)) * x[i]<=z)\n",
    "\n",
    "\n",
    "#TODO in need of optimization func\n",
    "matrix_model.Minimize(-m@x +z)\n",
    "matrix_model.options.SOLVER = 1\n",
    "print(m)\n",
    "matrix_model.solve(disp=True)\n",
    "\n",
    "print(x )\n"
   ]
  },
  {
   "cell_type": "code",
   "execution_count": 15,
   "id": "86ef1931",
   "metadata": {},
   "outputs": [
    {
     "data": {
      "text/plain": [
       "2"
      ]
     },
     "execution_count": 15,
     "metadata": {},
     "output_type": "execute_result"
    }
   ],
   "source": [
    "np.array([[2,3,1],[2,2,1]])[(1,1)]"
   ]
  },
  {
   "cell_type": "markdown",
   "id": "97e9890a",
   "metadata": {},
   "source": [
    "# Matrix LP with new objective"
   ]
  },
  {
   "cell_type": "code",
   "execution_count": 16,
   "id": "45debb07",
   "metadata": {},
   "outputs": [
    {
     "data": {
      "text/plain": [
       "((0,), (1,))"
      ]
     },
     "execution_count": 16,
     "metadata": {},
     "output_type": "execute_result"
    }
   ],
   "source": [
    "permutations = tuple(product(range(2),repeat = 1 ))\n",
    "permutations"
   ]
  },
  {
   "cell_type": "code",
   "execution_count": 17,
   "id": "c51efdca",
   "metadata": {},
   "outputs": [],
   "source": [
    "def model_permutation_equations(model, cpt, realization, binary_variables, threshold:float=0.5):\n",
    "    is_taken = 1\n",
    "    for i,instant_state in enumerate(realization):\n",
    "        is_taken *= (1-binary_variables[i]) if instant_state == 0 else binary_variables[i]\n",
    "    print(f\"cpt:{cpt[realization]}, is_taken:{is_taken}, threshold:{threshold}\")\n",
    "    model.Equation(cpt[realization] >= is_taken*threshold)\n",
    "    "
   ]
  },
  {
   "cell_type": "code",
   "execution_count": 18,
   "id": "6c92b983",
   "metadata": {},
   "outputs": [
    {
     "name": "stdout",
     "output_type": "stream",
     "text": [
      "cpt:0.4, is_taken:((1)*((1-int_v1))), threshold:0.5\n",
      "cpt:0.5, is_taken:((1)*(int_v1)), threshold:0.5\n",
      "[0]\n",
      "[0.4 0.5]\n",
      "apm 79.206.189.254_gk_model1 <br><pre> ----------------------------------------------------------------\n",
      " APMonitor, Version 1.0.1\n",
      " APMonitor Optimization Suite\n",
      " ----------------------------------------------------------------\n",
      " \n",
      " \n",
      " --------- APM Model Size ------------\n",
      " Each time step contains\n",
      "   Objects      :            0\n",
      "   Constants    :            2\n",
      "   Variables    :            7\n",
      "   Intermediates:            0\n",
      "   Connections  :            0\n",
      "   Equations    :            6\n",
      "   Residuals    :            6\n",
      " \n",
      " Number of state variables:              6\n",
      " Number of total equations: -            5\n",
      " Number of slack variables: -            2\n",
      " ---------------------------------------\n",
      " Degrees of freedom       :             -1\n",
      " \n",
      " * Warning: DOF <= 0\n",
      " ----------------------------------------------\n",
      " Steady State Optimization with APOPT Solver\n",
      " ----------------------------------------------\n",
      "Iter:     1 I:  0 Tm:      0.00 NLPi:    3 Dpth:    0 Lvs:    2 Obj:  2.00E-01 Gap:       NaN\n",
      "--Integer Solution:   5.00E-01 Lowest Leaf:   2.00E-01 Gap:   3.00E-01\n",
      "Iter:     2 I:  0 Tm:      0.00 NLPi:    3 Dpth:    1 Lvs:    1 Obj:  5.00E-01 Gap:  3.00E-01\n",
      "Iter:     3 I: -1 Tm:      0.00 NLPi:    2 Dpth:    1 Lvs:    0 Obj:  2.00E-01 Gap:  3.00E-01\n",
      " No additional trial points, returning the best integer solution\n",
      " Successful solution\n",
      " \n",
      " ---------------------------------------------------\n",
      " Solver         :  APOPT (v1.0)\n",
      " Solution time  :   1.339999999618158E-002 sec\n",
      " Objective      :   0.500000000000000     \n",
      " Successful solution\n",
      " ---------------------------------------------------\n",
      " \n",
      "[[1.0]] [[0.0] [1.0]]\n"
     ]
    }
   ],
   "source": [
    "model = GEKKO()\n",
    "m = model.Array(model.Const,(2))#(4))\n",
    "m[(0)] = 0.4\n",
    "m[(1)] = 0.5\n",
    "\n",
    "#m = numpy_array\n",
    "\n",
    "\n",
    "x = model.Array(model.Var,1, lb=0, ub=1, integer = True, value = 0)\n",
    "threshold = model.Param(0.5, integer = True)\n",
    "y = model.Array(model.Var, 2)\n",
    "z = model.Var()\n",
    "\n",
    "for realization in permutations:\n",
    "    model_permutation_equations(model, m,realization,x)\n",
    "\n",
    "model.Equation(z == sum(2**i * xi for i, xi in enumerate(x)))\n",
    "\n",
    "for i,yi in enumerate(y):\n",
    "    model.Equation(yi == 0**((i-z)**2))#model.if3(-model.abs3(i-xi),0,1))\n",
    "    #model.Equation(yi == model.abs3(i-z))\n",
    "\n",
    "\n",
    "#TODO in need of optimization func\n",
    "model.Minimize(  model.sum(x) - m.flatten()@y)\n",
    "model.options.SOLVER = 1\n",
    "print(x)\n",
    "print(m)\n",
    "model.solve(disp=True)\n",
    "\n",
    "print(x,  y )"
   ]
  },
  {
   "cell_type": "markdown",
   "id": "73783dc1",
   "metadata": {},
   "source": [
    "Tree-based modelling:\n",
    "1. Create backwards traversal\n",
    "2. create CPT for each node\n",
    "3. "
   ]
  },
  {
   "cell_type": "code",
   "execution_count": 19,
   "id": "43ff70ee",
   "metadata": {},
   "outputs": [],
   "source": [
    "class LazyLearner:\n",
    "\n",
    "    def __init__(self, nx_graph,join_tree,\n",
    "     ) -> None:\n",
    "        self.G = nx_graph\n",
    "        self.join_tree = join_tree\n",
    "\n",
    "    \n",
    "    def build_evidence(self,node,value):\n",
    "        state = \"on\" if value==1 else \"off\"\n",
    "        ev = EvidenceBuilder() \\\n",
    "        .with_node(self.join_tree.get_bbn_node(node)) \\\n",
    "        .with_evidence(state, value) \\\n",
    "        .build()\n",
    "        self.join_tree.set_observation(ev)\n",
    "\n",
    "    \n",
    "    \n",
    "    def posterior_proba(self,parent_node_states:tuple, permutation_to_node_map:tuple,node)-> float:\n",
    "        for binary_value, parent_node in zip(parent_node_states, permutation_to_node_map):\n",
    "            self.build_evidence(parent_node,binary_value)\n",
    "        proba = self.join_tree.get_posteriors()[node] \n",
    "        \n",
    "        self.join_tree.unobserve_all()\n",
    "        return proba[\"on\"]\n",
    "\n",
    "    def create_CPT(self,node:int) -> np.array:\n",
    "        parents=tuple(self.G.predecessors(node))\n",
    "        return (\n",
    "            self.model.Array(self.model.Const,1,value = self.posterior_proba((), (), node))\n",
    "            if parents == ()\n",
    "            else self.create_CPT_with_parents(node)\n",
    "        )\n",
    "\n",
    "    def parent_permutations(self, node)-> tuple:\n",
    "        parents=tuple(self.G.predecessors(node))\n",
    "        num_parents = len(parents)\n",
    "        permutations = tuple(product(range(2),repeat = num_parents ))\n",
    "        \n",
    "        return permutations, parents\n",
    "        \n",
    "    # TODO Rename this here and in `create_CPT`\n",
    "    def create_CPT_with_parents(self, node):\n",
    "        permutations, parents = self.parent_permutations(node)\n",
    "        num_parents = len(parents)\n",
    "        dimensions = tuple(2 for i in range(num_parents))\n",
    "        cpt = self.model.Array(self.model.Const, dimensions)\n",
    "        \n",
    "        for permutation in permutations:\n",
    "            cpt[permutation] = self.posterior_proba(permutation,parents,node)\n",
    "        return cpt\n",
    "\n",
    "    def backwards_traversal(self,target_node:int)->list:\n",
    "        queue = list(self.G.predecessors(target_node))\n",
    "        for node in queue:\n",
    "            queue += list(self.G.predecessors(node))\n",
    "        return queue\n",
    "    \n",
    "    def create_CPT_for_all_nodes(self,Q, target_node):\n",
    "        return {node: self.create_CPT(node) for node in Q+[target_node]}\n",
    "\n",
    "    def create_binary_variables(self,Q):\n",
    "        return {node: self.model.Var(lb=0, ub=1, integer = True, value = 1) for node in Q}\n",
    "\n",
    "    def model_permutation_equations(self, cpt,x, realization, parents,target_node_value, threshold:float=0.5):\n",
    "        if parents == ():    \n",
    "            self.model.Equation(cpt[0]>= threshold*  x[target_node_value])\n",
    "        elif target_node_value==1:\n",
    "            is_taken = 1\n",
    "            for instant_state,parent in zip(realization,parents):\n",
    "                is_taken *= 1-x[parent] if instant_state == 0 else x[parent]\n",
    "            self.model.Equation(cpt[realization] >= is_taken*threshold)\n",
    "        else:\n",
    "            is_taken = 1\n",
    "            for instant_state,parent in zip(realization,parents):\n",
    "                is_taken *= 1-x[parent] if instant_state == 0 else x[parent]\n",
    "            self.model.Equation(cpt[realization] >= is_taken*threshold * x[target_node_value])\n",
    "\n",
    "    def model_permutations(self,node,x,cpt,threshold,target_node=False):\n",
    "        permutations, parents = self.parent_permutations(node)\n",
    "        for realization in permutations:\n",
    "            if target_node:\n",
    "                self.model_permutation_equations(cpt,x,realization,parents, 1,threshold)\n",
    "            else:\n",
    "                self.model_permutation_equations(cpt,x,realization,parents,node ,threshold)\n",
    "\n",
    "    def initialize_ip(self, target_node, threshold):\n",
    "        self.model = GEKKO()\n",
    "        threshold = self.model.Const(threshold)\n",
    "        Q = self.backwards_traversal(target_node)\n",
    "        CPT = self.create_CPT_for_all_nodes(Q, target_node)\n",
    "        x = self.create_binary_variables(Q)\n",
    "        \n",
    "        #model IP for target node\n",
    "        for node in Q:\n",
    "            self.model_permutations(node,x,CPT[node],threshold, target_node=False)\n",
    "        \n",
    "        #model IP for all pare nodes (if taken property)\n",
    "        self.model_permutations(target_node,x, CPT[target_node], threshold, target_node=True)\n",
    "        \n",
    "        #only optimizing parent path - other might yield problems\n",
    "        _,target_parents = self.parent_permutations(target_node)\n",
    "        y = self.model.Array(self.model.Var, 2**len(target_parents))\n",
    "        z = self.model.Var()\n",
    "\n",
    " \n",
    "\n",
    "        target_parents_variables = [parent for parent in Q if parent in target_parents]\n",
    "        self.model.Equation(z == sum(2**i * x[xi] for i, xi in enumerate(target_parents_variables)))\n",
    "\n",
    "        for i,yi in enumerate(y):\n",
    "            self.model.Equation(yi == 0**((i-z)**2))\n",
    "\n",
    "        self.model.Minimize(  self.model.sum([x[i] for i in x]) - CPT[target_node].flatten()@y)\n",
    "        self.model.options.SOLVER = 1\n",
    "        self.model.solve(disp=True)\n"
   ]
  },
  {
   "cell_type": "code",
   "execution_count": 20,
   "id": "1e69409f",
   "metadata": {},
   "outputs": [],
   "source": [
    "ll = LazyLearner(g,join_tree)"
   ]
  },
  {
   "cell_type": "code",
   "execution_count": 21,
   "id": "1990e416",
   "metadata": {},
   "outputs": [
    {
     "name": "stdout",
     "output_type": "stream",
     "text": [
      "apm 79.206.189.254_gk_model2 <br><pre> ----------------------------------------------------------------\n",
      " APMonitor, Version 1.0.1\n",
      " APMonitor Optimization Suite\n",
      " ----------------------------------------------------------------\n",
      " \n",
      " \n",
      " --------- APM Model Size ------------\n",
      " Each time step contains\n",
      "   Objects      :            1\n",
      "   Constants    :            6\n",
      "   Variables    :           11\n",
      "   Intermediates:            0\n",
      "   Connections  :            3\n",
      "   Equations    :            9\n",
      "   Residuals    :            9\n",
      " \n",
      " Number of state variables:             11\n",
      " Number of total equations: -            9\n",
      " Number of slack variables: -            5\n",
      " ---------------------------------------\n",
      " Degrees of freedom       :             -3\n",
      " \n",
      " * Warning: DOF <= 0\n",
      " ----------------------------------------------\n",
      " Steady State Optimization with APOPT Solver\n",
      " ----------------------------------------------\n",
      "Iter:     1 I:  0 Tm:      0.00 NLPi:    3 Dpth:    0 Lvs:    3 Obj:  4.00E-01 Gap:       NaN\n",
      "Iter:     2 I: -1 Tm:      0.00 NLPi:    2 Dpth:    1 Lvs:    2 Obj:  4.00E-01 Gap:       NaN\n",
      "Iter:     3 I:  0 Tm:      0.00 NLPi:    3 Dpth:    1 Lvs:    3 Obj:  1.20E+00 Gap:       NaN\n",
      "Iter:     4 I: -1 Tm:      0.00 NLPi:    2 Dpth:    1 Lvs:    2 Obj:  4.00E-01 Gap:       NaN\n",
      "--Integer Solution:   1.10E+00 Lowest Leaf:   1.10E+00 Gap:   0.00E+00\n",
      "Iter:     5 I:  0 Tm:      0.00 NLPi:    3 Dpth:    2 Lvs:    2 Obj:  1.10E+00 Gap:  0.00E+00\n",
      " Successful solution\n",
      " \n",
      " ---------------------------------------------------\n",
      " Solver         :  APOPT (v1.0)\n",
      " Solution time  :   1.399999999557622E-002 sec\n",
      " Objective      :    1.10000000000000     \n",
      " Successful solution\n",
      " ---------------------------------------------------\n",
      " \n"
     ]
    }
   ],
   "source": [
    "ll.initialize_ip(2,0.5)"
   ]
  },
  {
   "cell_type": "code",
   "execution_count": 22,
   "id": "978873c9",
   "metadata": {},
   "outputs": [],
   "source": [
    "model = GEKKO()\n",
    "x = model.Array(model.Var,1,value = 0)"
   ]
  },
  {
   "cell_type": "code",
   "execution_count": 23,
   "id": "5861484c",
   "metadata": {},
   "outputs": [
    {
     "data": {
      "text/plain": [
       "0.4"
      ]
     },
     "execution_count": 23,
     "metadata": {},
     "output_type": "execute_result"
    }
   ],
   "source": [
    "posterior_proba(join_tree,x,1)"
   ]
  },
  {
   "cell_type": "code",
   "execution_count": 37,
   "id": "50561978",
   "metadata": {},
   "outputs": [],
   "source": [
    "a= BbnNode(Variable(0, 0, ['on', 'off']), [0.5, 0.5])\n",
    "b = BbnNode(Variable(1, 1, ['on', 'off']), [0.7, 0.3, 0.5, 0.5])\n",
    "c = BbnNode(Variable(2, 2, ['on', 'off']), [0.9, 0.1, 0.4, 0.6,0.5,0.5,0.1,0.9])\n",
    "d = BbnNode(Variable(3, 3, ['on', 'off']), [0.6, 0.4, 0.2, 0.8])\n",
    "\n",
    "\n",
    "bbn = Bbn() \\\n",
    "    .add_node(a) \\\n",
    "    .add_node(a) \\\n",
    "    .add_node(a) \\\n",
    "    .add_node(d) \\\n",
    "    .add_edge(Edge(a,b,EdgeType.DIRECTED)) \\\n",
    "    .add_edge(Edge(b,c,EdgeType.DIRECTED)) \\\n",
    "    .add_edge(Edge(a,c,EdgeType.DIRECTED)) \\\n",
    "    .add_edge(Edge(c,d,EdgeType.DIRECTED)) \n"
   ]
  },
  {
   "cell_type": "code",
   "execution_count": 50,
   "id": "0cdc9dcb",
   "metadata": {},
   "outputs": [],
   "source": [
    "bbn = Bbn()\\\n",
    "    .add_node(BbnNode(Variable(0, 0, ['on', 'off']), [0.6, 0.4, 0.2, 0.8]))\\\n",
    "    .add_node(BbnNode(Variable(1, 1, ['on', 'off']), [0.6, 0.4, 0.2, 0.8]))\\\n",
    "    .add_node(BbnNode(Variable(2, 2, ['on', 'off']), [0.6, 0.4, 0.2, 0.8]))\\\n",
    "    .add_node(BbnNode(Variable(3, 3, ['on', 'off']), [0.6, 0.4, 0.2, 0.8]))\\\n",
    "    .add_node(BbnNode(Variable(4, 4, ['on', 'off']), [0.6, 0.4, 0.2, 0.8]))"
   ]
  },
  {
   "cell_type": "code",
   "execution_count": 53,
   "id": "9865d657",
   "metadata": {},
   "outputs": [],
   "source": [
    "nodes = {1:BbnNode(Variable(0, 0, ['on', 'off']), [0.5, 0.5]),\n",
    "2 : BbnNode(Variable(1, 1, ['on', 'off']), [0.7, 0.3, 0.5, 0.5]),\n",
    "3 : BbnNode(Variable(2, 2, ['on', 'off']), [0.9, 0.1, 0.4, 0.6,0.5,0.5,0.1,0.9]),\n",
    "4 : BbnNode(Variable(3, 3, ['on', 'off']), [0.6, 0.4, 0.2, 0.8])}"
   ]
  },
  {
   "cell_type": "code",
   "execution_count": 55,
   "id": "49233b39",
   "metadata": {},
   "outputs": [],
   "source": [
    "for node in nodes.values():\n",
    "    bbn.add_node(node)"
   ]
  },
  {
   "cell_type": "code",
   "execution_count": 58,
   "id": "d0a89e59",
   "metadata": {},
   "outputs": [
    {
     "data": {
      "text/plain": [
       "<pybbn.graph.dag.Bbn at 0x7f7ebe5bd430>"
      ]
     },
     "execution_count": 58,
     "metadata": {},
     "output_type": "execute_result"
    }
   ],
   "source": [
    "bbn.add_edge(Edge(nodes[2],nodes[1],EdgeType.DIRECTED))"
   ]
  },
  {
   "cell_type": "code",
   "execution_count": 47,
   "id": "02b75633",
   "metadata": {},
   "outputs": [
    {
     "ename": "AttributeError",
     "evalue": "'int' object has no attribute 'id'",
     "output_type": "error",
     "traceback": [
      "\u001b[0;31m---------------------------------------------------------------------------\u001b[0m",
      "\u001b[0;31mAttributeError\u001b[0m                            Traceback (most recent call last)",
      "\u001b[0;32m/tmp/ipykernel_481/280872258.py\u001b[0m in \u001b[0;36m<module>\u001b[0;34m\u001b[0m\n\u001b[0;32m----> 1\u001b[0;31m \u001b[0mbbn\u001b[0m\u001b[0;34m.\u001b[0m\u001b[0madd_edge\u001b[0m\u001b[0;34m(\u001b[0m\u001b[0mEdge\u001b[0m\u001b[0;34m(\u001b[0m\u001b[0;36m4\u001b[0m\u001b[0;34m,\u001b[0m\u001b[0;36m4\u001b[0m\u001b[0;34m,\u001b[0m\u001b[0mEdgeType\u001b[0m\u001b[0;34m.\u001b[0m\u001b[0mDIRECTED\u001b[0m\u001b[0;34m)\u001b[0m\u001b[0;34m)\u001b[0m\u001b[0;34m\u001b[0m\u001b[0;34m\u001b[0m\u001b[0m\n\u001b[0m",
      "\u001b[0;32m/mnt/d/Python/Projects/optimal_learning_path/.env/lib/python3.8/site-packages/pybbn/graph/graph.py\u001b[0m in \u001b[0;36madd_edge\u001b[0;34m(self, edge)\u001b[0m\n\u001b[1;32m     71\u001b[0m         \u001b[0;34m:\u001b[0m\u001b[0;32mreturn\u001b[0m\u001b[0;34m:\u001b[0m \u001b[0mThis\u001b[0m \u001b[0mgraph\u001b[0m\u001b[0;34m.\u001b[0m\u001b[0;34m\u001b[0m\u001b[0;34m\u001b[0m\u001b[0m\n\u001b[1;32m     72\u001b[0m         \"\"\"\n\u001b[0;32m---> 73\u001b[0;31m         \u001b[0mself\u001b[0m\u001b[0;34m.\u001b[0m\u001b[0madd_node\u001b[0m\u001b[0;34m(\u001b[0m\u001b[0medge\u001b[0m\u001b[0;34m.\u001b[0m\u001b[0mi\u001b[0m\u001b[0;34m)\u001b[0m\u001b[0;34m\u001b[0m\u001b[0;34m\u001b[0m\u001b[0m\n\u001b[0m\u001b[1;32m     74\u001b[0m         \u001b[0mself\u001b[0m\u001b[0;34m.\u001b[0m\u001b[0madd_node\u001b[0m\u001b[0;34m(\u001b[0m\u001b[0medge\u001b[0m\u001b[0;34m.\u001b[0m\u001b[0mj\u001b[0m\u001b[0;34m)\u001b[0m\u001b[0;34m\u001b[0m\u001b[0;34m\u001b[0m\u001b[0m\n\u001b[1;32m     75\u001b[0m \u001b[0;34m\u001b[0m\u001b[0m\n",
      "\u001b[0;32m/mnt/d/Python/Projects/optimal_learning_path/.env/lib/python3.8/site-packages/pybbn/graph/graph.py\u001b[0m in \u001b[0;36madd_node\u001b[0;34m(self, node)\u001b[0m\n\u001b[1;32m     60\u001b[0m         \u001b[0;34m:\u001b[0m\u001b[0;32mreturn\u001b[0m\u001b[0;34m:\u001b[0m \u001b[0mThis\u001b[0m \u001b[0mgraph\u001b[0m\u001b[0;34m.\u001b[0m\u001b[0;34m\u001b[0m\u001b[0;34m\u001b[0m\u001b[0m\n\u001b[1;32m     61\u001b[0m         \"\"\"\n\u001b[0;32m---> 62\u001b[0;31m         \u001b[0;32mif\u001b[0m \u001b[0mnode\u001b[0m\u001b[0;34m.\u001b[0m\u001b[0mid\u001b[0m \u001b[0;32mnot\u001b[0m \u001b[0;32min\u001b[0m \u001b[0mself\u001b[0m\u001b[0;34m.\u001b[0m\u001b[0mnodes\u001b[0m\u001b[0;34m:\u001b[0m\u001b[0;34m\u001b[0m\u001b[0;34m\u001b[0m\u001b[0m\n\u001b[0m\u001b[1;32m     63\u001b[0m             \u001b[0mself\u001b[0m\u001b[0;34m.\u001b[0m\u001b[0mnodes\u001b[0m\u001b[0;34m[\u001b[0m\u001b[0mnode\u001b[0m\u001b[0;34m.\u001b[0m\u001b[0mid\u001b[0m\u001b[0;34m]\u001b[0m \u001b[0;34m=\u001b[0m \u001b[0mnode\u001b[0m\u001b[0;34m\u001b[0m\u001b[0;34m\u001b[0m\u001b[0m\n\u001b[1;32m     64\u001b[0m         \u001b[0;32mreturn\u001b[0m \u001b[0mself\u001b[0m\u001b[0;34m\u001b[0m\u001b[0;34m\u001b[0m\u001b[0m\n",
      "\u001b[0;31mAttributeError\u001b[0m: 'int' object has no attribute 'id'"
     ]
    }
   ],
   "source": [
    "bbn.add_edge(Edge(4,4,EdgeType.DIRECTED))"
   ]
  }
 ],
 "metadata": {
  "kernelspec": {
   "display_name": "Python 3 (ipykernel)",
   "language": "python",
   "name": "python3"
  },
  "language_info": {
   "codemirror_mode": {
    "name": "ipython",
    "version": 3
   },
   "file_extension": ".py",
   "mimetype": "text/x-python",
   "name": "python",
   "nbconvert_exporter": "python",
   "pygments_lexer": "ipython3",
   "version": "3.8.10"
  }
 },
 "nbformat": 4,
 "nbformat_minor": 5
}
